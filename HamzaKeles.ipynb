{
 "cells": [
  {
   "cell_type": "code",
   "execution_count": null,
   "metadata": {
    "_cell_guid": "b1076dfc-b9ad-4769-8c92-a6c4dae69d19",
    "_uuid": "8f2839f25d086af736a60e9eeb907d3b93b6e0e5",
    "collapsed": true,
    "execution": {
     "iopub.execute_input": "2025-04-20T12:50:31.767063Z",
     "iopub.status.busy": "2025-04-20T12:50:31.766726Z",
     "iopub.status.idle": "2025-04-20T12:52:33.008976Z",
     "shell.execute_reply": "2025-04-20T12:52:33.007707Z",
     "shell.execute_reply.started": "2025-04-20T12:50:31.767039Z"
    },
    "jupyter": {
     "outputs_hidden": true
    },
    "trusted": true
   },
   "outputs": [],
   "source": [
    "# This Python 3 environment comes with many helpful analytics libraries installed\n",
    "# It is defined by the kaggle/python Docker image: https://github.com/kaggle/docker-python\n",
    "# For example, here's several helpful packages to load\n",
    "\n",
    "import numpy as np # linear algebra\n",
    "import pandas as pd # data processing, CSV file I/O (e.g. pd.read_csv)\n",
    "\n",
    "# Input data files are available in the read-only \"../input/\" directory\n",
    "# For example, running this (by clicking run or pressing Shift+Enter) will list all files under the input directory\n",
    "\n",
    "import os\n",
    "for dirname, _, filenames in os.walk('/kaggle/input'):\n",
    "    for filename in filenames:\n",
    "        print(os.path.join(dirname, filename))\n",
    "\n",
    "# You can write up to 20GB to the current directory (/kaggle/working/) that gets preserved as output when you create a version using \"Save & Run All\" \n",
    "# You can also write temporary files to /kaggle/temp/, but they won't be saved outside of the current session"
   ]
  },
  {
   "cell_type": "code",
   "execution_count": 7,
   "metadata": {
    "execution": {
     "iopub.execute_input": "2025-04-20T13:06:21.313613Z",
     "iopub.status.busy": "2025-04-20T13:06:21.313307Z",
     "iopub.status.idle": "2025-04-20T13:06:21.319406Z",
     "shell.execute_reply": "2025-04-20T13:06:21.318500Z",
     "shell.execute_reply.started": "2025-04-20T13:06:21.313589Z"
    },
    "trusted": true
   },
   "outputs": [],
   "source": [
    "import os\n",
    "import cv2\n",
    "import numpy as np\n",
    "import pandas as pd\n",
    "import matplotlib.pyplot as plt\n",
    "from sklearn.model_selection import train_test_split\n",
    "from sklearn.metrics import classification_report, confusion_matrix\n",
    "import seaborn as sns\n",
    "from tensorflow.keras.models import Sequential\n",
    "from tensorflow.keras.layers import Conv2D, MaxPooling2D, Flatten, Dense, Dropout\n",
    "from tensorflow.keras.utils import to_categorical"
   ]
  },
  {
   "cell_type": "code",
   "execution_count": null,
   "metadata": {
    "execution": {
     "iopub.execute_input": "2025-04-20T13:06:23.637411Z",
     "iopub.status.busy": "2025-04-20T13:06:23.637070Z",
     "iopub.status.idle": "2025-04-20T13:06:23.649046Z",
     "shell.execute_reply": "2025-04-20T13:06:23.648056Z",
     "shell.execute_reply.started": "2025-04-20T13:06:23.637385Z"
    },
    "trusted": true
   },
   "outputs": [],
   "source": [
    "data_path = \"/kaggle/input/rice-image-dataset/Rice_Image_Dataset\"\n",
    "labels = [name for name in os.listdir(data_path) if os.path.isdir(os.path.join(data_path, name))]"
   ]
  },
  {
   "cell_type": "code",
   "execution_count": 9,
   "metadata": {
    "execution": {
     "iopub.execute_input": "2025-04-20T13:06:26.529531Z",
     "iopub.status.busy": "2025-04-20T13:06:26.529213Z",
     "iopub.status.idle": "2025-04-20T13:06:26.691176Z",
     "shell.execute_reply": "2025-04-20T13:06:26.689486Z",
     "shell.execute_reply.started": "2025-04-20T13:06:26.529508Z"
    },
    "trusted": true
   },
   "outputs": [],
   "source": [
    "img_list = []\n",
    "label_list = []\n",
    "\n",
    "for label in labels:\n",
    "    folder_path = os.path.join(data_path, label)\n",
    "    for img_file in os.listdir(folder_path):\n",
    "        img_list.append(os.path.join(folder_path, img_file))\n",
    "        label_list.append(label)\n",
    "\n",
    "df = pd.DataFrame({\"img\": img_list, \"label\": label_list})\n",
    "df[\"encode_label\"] = df[\"label\"].map({label: idx for idx, label in enumerate(labels)})\n",
    "\n",
    "# Karıştır\n",
    "df = df.sample(frac=1).reset_index(drop=True)\n"
   ]
  },
  {
   "cell_type": "code",
   "execution_count": null,
   "metadata": {
    "execution": {
     "iopub.execute_input": "2025-04-20T13:06:28.738883Z",
     "iopub.status.busy": "2025-04-20T13:06:28.738011Z"
    },
    "trusted": true
   },
   "outputs": [],
   "source": [
    "size = 64\n",
    "X = []\n",
    "\n",
    "for img_path in df[\"img\"]:\n",
    "    img = cv2.imread(img_path)\n",
    "    img = cv2.resize(img, (size, size))\n",
    "    img = img / 255.0\n",
    "    X.append(img)\n",
    "\n",
    "X = np.array(X)\n",
    "y = to_categorical(df[\"encode_label\"], num_classes=len(labels))\n"
   ]
  },
  {
   "cell_type": "code",
   "execution_count": 13,
   "metadata": {
    "execution": {
     "iopub.execute_input": "2025-04-20T13:38:17.931372Z",
     "iopub.status.busy": "2025-04-20T13:38:17.931080Z",
     "iopub.status.idle": "2025-04-20T13:38:19.989867Z",
     "shell.execute_reply": "2025-04-20T13:38:19.988915Z",
     "shell.execute_reply.started": "2025-04-20T13:38:17.931353Z"
    },
    "trusted": true
   },
   "outputs": [],
   "source": [
    "X_train, X_test, y_train, y_test = train_test_split(X, y, test_size=0.2, random_state=42)\n"
   ]
  },
  {
   "cell_type": "code",
   "execution_count": 14,
   "metadata": {
    "execution": {
     "iopub.execute_input": "2025-04-20T13:38:23.114095Z",
     "iopub.status.busy": "2025-04-20T13:38:23.113727Z",
     "iopub.status.idle": "2025-04-20T13:38:23.211645Z",
     "shell.execute_reply": "2025-04-20T13:38:23.210549Z",
     "shell.execute_reply.started": "2025-04-20T13:38:23.114072Z"
    },
    "trusted": true
   },
   "outputs": [],
   "source": [
    "model = Sequential()\n",
    "model.add(Conv2D(32, (3,3), activation='relu', input_shape=(size, size, 3)))\n",
    "model.add(MaxPooling2D((2,2)))\n",
    "model.add(Conv2D(64, (3,3), activation='relu'))\n",
    "model.add(MaxPooling2D((2,2)))\n",
    "model.add(Conv2D(128, (3,3), activation='relu'))\n",
    "model.add(Flatten())\n",
    "model.add(Dense(128, activation='relu'))\n",
    "model.add(Dropout(0.5))\n",
    "model.add(Dense(len(labels), activation='softmax'))\n",
    "\n",
    "model.compile(optimizer='adam', loss='categorical_crossentropy', metrics=['accuracy'])\n"
   ]
  },
  {
   "cell_type": "code",
   "execution_count": 15,
   "metadata": {
    "execution": {
     "iopub.execute_input": "2025-04-20T13:38:25.104333Z",
     "iopub.status.busy": "2025-04-20T13:38:25.104013Z",
     "iopub.status.idle": "2025-04-20T13:59:24.299966Z",
     "shell.execute_reply": "2025-04-20T13:59:24.299043Z",
     "shell.execute_reply.started": "2025-04-20T13:38:25.104309Z"
    },
    "trusted": true
   },
   "outputs": [
    {
     "name": "stdout",
     "output_type": "stream",
     "text": [
      "Epoch 1/5\n",
      "\u001b[1m1875/1875\u001b[0m \u001b[32m━━━━━━━━━━━━━━━━━━━━\u001b[0m\u001b[37m\u001b[0m \u001b[1m232s\u001b[0m 122ms/step - accuracy: 0.8999 - loss: 0.2680 - val_accuracy: 0.9748 - val_loss: 0.0749\n",
      "Epoch 2/5\n",
      "\u001b[1m1875/1875\u001b[0m \u001b[32m━━━━━━━━━━━━━━━━━━━━\u001b[0m\u001b[37m\u001b[0m \u001b[1m218s\u001b[0m 116ms/step - accuracy: 0.9725 - loss: 0.0885 - val_accuracy: 0.9877 - val_loss: 0.0390\n",
      "Epoch 3/5\n",
      "\u001b[1m1875/1875\u001b[0m \u001b[32m━━━━━━━━━━━━━━━━━━━━\u001b[0m\u001b[37m\u001b[0m \u001b[1m263s\u001b[0m 117ms/step - accuracy: 0.9833 - loss: 0.0537 - val_accuracy: 0.9912 - val_loss: 0.0266\n",
      "Epoch 4/5\n",
      "\u001b[1m1875/1875\u001b[0m \u001b[32m━━━━━━━━━━━━━━━━━━━━\u001b[0m\u001b[37m\u001b[0m \u001b[1m261s\u001b[0m 116ms/step - accuracy: 0.9868 - loss: 0.0435 - val_accuracy: 0.9934 - val_loss: 0.0216\n",
      "Epoch 5/5\n",
      "\u001b[1m1875/1875\u001b[0m \u001b[32m━━━━━━━━━━━━━━━━━━━━\u001b[0m\u001b[37m\u001b[0m \u001b[1m276s\u001b[0m 124ms/step - accuracy: 0.9916 - loss: 0.0273 - val_accuracy: 0.9939 - val_loss: 0.0209\n"
     ]
    }
   ],
   "source": [
    "history = model.fit(X_train, y_train, validation_data=(X_test, y_test), epochs=5, verbose=1)"
   ]
  },
  {
   "cell_type": "code",
   "execution_count": 16,
   "metadata": {
    "execution": {
     "iopub.execute_input": "2025-04-20T14:00:47.958520Z",
     "iopub.status.busy": "2025-04-20T14:00:47.956886Z",
     "iopub.status.idle": "2025-04-20T14:01:24.204219Z",
     "shell.execute_reply": "2025-04-20T14:01:24.203077Z",
     "shell.execute_reply.started": "2025-04-20T14:00:47.958476Z"
    },
    "trusted": true
   },
   "outputs": [
    {
     "name": "stdout",
     "output_type": "stream",
     "text": [
      "\u001b[1m469/469\u001b[0m \u001b[32m━━━━━━━━━━━━━━━━━━━━\u001b[0m\u001b[37m\u001b[0m \u001b[1m15s\u001b[0m 32ms/step - accuracy: 0.9935 - loss: 0.0212\n",
      "Test Accuracy: 0.9939\n",
      "\u001b[1m469/469\u001b[0m \u001b[32m━━━━━━━━━━━━━━━━━━━━\u001b[0m\u001b[37m\u001b[0m \u001b[1m15s\u001b[0m 32ms/step\n",
      "              precision    recall  f1-score   support\n",
      "\n",
      "   Karacadag       1.00      0.99      0.99      2970\n",
      "     Basmati       1.00      0.99      0.99      3008\n",
      "     Jasmine       0.99      0.99      0.99      3003\n",
      "     Arborio       0.98      1.00      0.99      3052\n",
      "      Ipsala       1.00      1.00      1.00      2967\n",
      "\n",
      "    accuracy                           0.99     15000\n",
      "   macro avg       0.99      0.99      0.99     15000\n",
      "weighted avg       0.99      0.99      0.99     15000\n",
      "\n"
     ]
    },
    {
     "data": {
      "image/png": "[encoded data removed]",
      "text/plain": [
       "<Figure size 800x600 with 2 Axes>"
      ]
     },
     "metadata": {},
     "output_type": "display_data"
    }
   ],
   "source": [
    "test_loss, test_acc = model.evaluate(X_test, y_test)\n",
    "print(f\"Test Accuracy: {test_acc:.4f}\")\n",
    "\n",
    "y_pred = np.argmax(model.predict(X_test), axis=1)\n",
    "y_true = np.argmax(y_test, axis=1)\n",
    "\n",
    "print(classification_report(y_true, y_pred, target_names=labels))\n",
    "\n",
    "cm = confusion_matrix(y_true, y_pred)\n",
    "plt.figure(figsize=(8,6))\n",
    "sns.heatmap(cm, annot=True, fmt='d', cmap='Blues', xticklabels=labels, yticklabels=labels)\n",
    "plt.xlabel(\"Tahmin\")\n",
    "plt.ylabel(\"Gerçek\")\n",
    "plt.title(\"Karışıklık Matrisi\")\n",
    "plt.show()\n"
   ]
  },
  {
   "cell_type": "code",
   "execution_count": 17,
   "metadata": {
    "execution": {
     "iopub.execute_input": "2025-04-20T14:01:38.836995Z",
     "iopub.status.busy": "2025-04-20T14:01:38.836640Z",
     "iopub.status.idle": "2025-04-20T14:01:38.969274Z",
     "shell.execute_reply": "2025-04-20T14:01:38.967907Z",
     "shell.execute_reply.started": "2025-04-20T14:01:38.836970Z"
    },
    "trusted": true
   },
   "outputs": [
    {
     "data": {
      "image/png": "[encoded data removed]",
      "text/plain": [
       "<Figure size 640x480 with 1 Axes>"
      ]
     },
     "metadata": {},
     "output_type": "display_data"
    }
   ],
   "source": [
    "i = 0\n",
    "plt.imshow(X_test[i])\n",
    "plt.title(f\"Gerçek: {labels[y_true[i]]} - Tahmin: {labels[y_pred[i]]}\")\n",
    "plt.axis('off')\n",
    "plt.show()\n"
   ]
  },
  {
   "cell_type": "code",
   "execution_count": 18,
   "metadata": {
    "execution": {
     "iopub.execute_input": "2025-04-20T14:01:59.079360Z",
     "iopub.status.busy": "2025-04-20T14:01:59.079006Z",
     "iopub.status.idle": "2025-04-20T14:01:59.182464Z",
     "shell.execute_reply": "2025-04-20T14:01:59.181459Z",
     "shell.execute_reply.started": "2025-04-20T14:01:59.079338Z"
    },
    "trusted": true
   },
   "outputs": [],
   "source": [
    "model.save(\"/kaggle/working/rice_model.h5\")\n"
   ]
  },
  {
   "cell_type": "code",
   "execution_count": null,
   "metadata": {
    "trusted": true
   },
   "outputs": [],
   "source": []
  }
 ],
 "metadata": {
  "kaggle": {
   "accelerator": "none",
   "dataSources": [
    {
     "datasetId": 2049052,
     "sourceId": 3399185,
     "sourceType": "datasetVersion"
    }
   ],
   "dockerImageVersionId": 31012,
   "isGpuEnabled": false,
   "isInternetEnabled": false,
   "language": "python",
   "sourceType": "notebook"
  },
  "kernelspec": {
   "display_name": "Python 3",
   "language": "python",
   "name": "python3"
  },
  "language_info": {
   "codemirror_mode": {
    "name": "ipython",
    "version": 3
   },
   "file_extension": ".py",
   "mimetype": "text/x-python",
   "name": "python",
   "nbconvert_exporter": "python",
   "pygments_lexer": "ipython3",
   "version": "3.11.11"
  }
 },
 "nbformat": 4,
 "nbformat_minor": 4
}
